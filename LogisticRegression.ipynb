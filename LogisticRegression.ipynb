{
 "cells": [
  {
   "cell_type": "code",
   "execution_count": 26,
   "metadata": {},
   "outputs": [],
   "source": [
    "from importnb import Notebook\n",
    "\n",
    "with Notebook():\n",
    "    from Introdution import pd,sns,plt,df\n",
    "    \n",
    "from sklearn.preprocessing import LabelEncoder\n",
    "from sklearn.model_selection import train_test_split\n",
    "from imblearn.over_sampling import SMOTE\n",
    "from sklearn.linear_model import LogisticRegression\n",
    "from sklearn.metrics import accuracy_score, classification_report, roc_auc_score, roc_curve"
   ]
  },
  {
   "cell_type": "code",
   "execution_count": 27,
   "metadata": {},
   "outputs": [
    {
     "data": {
      "text/html": [
       "<div>\n",
       "<style scoped>\n",
       "    .dataframe tbody tr th:only-of-type {\n",
       "        vertical-align: middle;\n",
       "    }\n",
       "\n",
       "    .dataframe tbody tr th {\n",
       "        vertical-align: top;\n",
       "    }\n",
       "\n",
       "    .dataframe thead th {\n",
       "        text-align: right;\n",
       "    }\n",
       "</style>\n",
       "<table border=\"1\" class=\"dataframe\">\n",
       "  <thead>\n",
       "    <tr style=\"text-align: right;\">\n",
       "      <th></th>\n",
       "      <th>gender</th>\n",
       "      <th>age</th>\n",
       "      <th>hypertension</th>\n",
       "      <th>heart_disease</th>\n",
       "      <th>smoking_history</th>\n",
       "      <th>bmi</th>\n",
       "      <th>HbA1c_level</th>\n",
       "      <th>blood_glucose_level</th>\n",
       "      <th>diabetes</th>\n",
       "    </tr>\n",
       "  </thead>\n",
       "  <tbody>\n",
       "    <tr>\n",
       "      <th>0</th>\n",
       "      <td>0</td>\n",
       "      <td>80.00</td>\n",
       "      <td>0</td>\n",
       "      <td>1</td>\n",
       "      <td>1</td>\n",
       "      <td>25.19</td>\n",
       "      <td>6.60</td>\n",
       "      <td>140</td>\n",
       "      <td>0</td>\n",
       "    </tr>\n",
       "    <tr>\n",
       "      <th>1</th>\n",
       "      <td>0</td>\n",
       "      <td>54.00</td>\n",
       "      <td>0</td>\n",
       "      <td>0</td>\n",
       "      <td>0</td>\n",
       "      <td>27.32</td>\n",
       "      <td>6.60</td>\n",
       "      <td>80</td>\n",
       "      <td>0</td>\n",
       "    </tr>\n",
       "    <tr>\n",
       "      <th>2</th>\n",
       "      <td>1</td>\n",
       "      <td>28.00</td>\n",
       "      <td>0</td>\n",
       "      <td>0</td>\n",
       "      <td>1</td>\n",
       "      <td>27.32</td>\n",
       "      <td>5.70</td>\n",
       "      <td>158</td>\n",
       "      <td>0</td>\n",
       "    </tr>\n",
       "    <tr>\n",
       "      <th>3</th>\n",
       "      <td>0</td>\n",
       "      <td>36.00</td>\n",
       "      <td>0</td>\n",
       "      <td>0</td>\n",
       "      <td>4</td>\n",
       "      <td>23.45</td>\n",
       "      <td>5.00</td>\n",
       "      <td>155</td>\n",
       "      <td>0</td>\n",
       "    </tr>\n",
       "    <tr>\n",
       "      <th>4</th>\n",
       "      <td>1</td>\n",
       "      <td>76.00</td>\n",
       "      <td>1</td>\n",
       "      <td>1</td>\n",
       "      <td>4</td>\n",
       "      <td>20.14</td>\n",
       "      <td>4.80</td>\n",
       "      <td>155</td>\n",
       "      <td>0</td>\n",
       "    </tr>\n",
       "  </tbody>\n",
       "</table>\n",
       "</div>"
      ],
      "text/plain": [
       "   gender   age  hypertension  heart_disease  smoking_history   bmi  \\\n",
       "0       0 80.00             0              1                1 25.19   \n",
       "1       0 54.00             0              0                0 27.32   \n",
       "2       1 28.00             0              0                1 27.32   \n",
       "3       0 36.00             0              0                4 23.45   \n",
       "4       1 76.00             1              1                4 20.14   \n",
       "\n",
       "   HbA1c_level  blood_glucose_level  diabetes  \n",
       "0         6.60                  140         0  \n",
       "1         6.60                   80         0  \n",
       "2         5.70                  158         0  \n",
       "3         5.00                  155         0  \n",
       "4         4.80                  155         0  "
      ]
     },
     "execution_count": 27,
     "metadata": {},
     "output_type": "execute_result"
    }
   ],
   "source": [
    "# Create a copy of the DataFrame to avoid modifying the original\n",
    "df_encoded = df.copy()\n",
    "\n",
    "# Create a label encoder object\n",
    "label_encoder = LabelEncoder()\n",
    "\n",
    "# Iterate through each object column and encode its values\n",
    "for column in df_encoded.select_dtypes(include='object'):\n",
    "    df_encoded[column] = label_encoder.fit_transform(df_encoded[column])\n",
    "\n",
    "# Now, df_encoded contains the label-encoded categorical columns\n",
    "df_encoded.head()"
   ]
  },
  {
   "cell_type": "code",
   "execution_count": 28,
   "metadata": {},
   "outputs": [
    {
     "name": "stdout",
     "output_type": "stream",
     "text": [
      "X_train shape: (146400, 8)\n",
      "X_test shape: (36600, 8)\n",
      "y_train shape: (146400,)\n",
      "y_test shape: (36600,)\n"
     ]
    }
   ],
   "source": [
    "# Split the data into training and testing sets\n",
    "X = df_encoded.drop(columns=['diabetes'])  # Features\n",
    "y = df_encoded['diabetes']  # Target variable\n",
    "\n",
    "smote = SMOTE(random_state=42)\n",
    "X_balanced, y_balanced = smote.fit_resample(X, y)\n",
    "\n",
    "# Step 2: Split the data into training and testing sets\n",
    "X_train, X_test, y_train, y_test = train_test_split(X_balanced, y_balanced, test_size=0.2, random_state=42)\n",
    "\n",
    "# Print the shapes of the new splits\n",
    "print(\"X_train shape:\", X_train.shape)\n",
    "print(\"X_test shape:\", X_test.shape)\n",
    "print(\"y_train shape:\", y_train.shape)\n",
    "print(\"y_test shape:\", y_test.shape)"
   ]
  },
  {
   "cell_type": "markdown",
   "metadata": {},
   "source": [
    "### REMOVE OUTLIERS WITH IQR"
   ]
  },
  {
   "cell_type": "code",
   "execution_count": 29,
   "metadata": {},
   "outputs": [
    {
     "name": "stdout",
     "output_type": "stream",
     "text": [
      "Number of rows removed due to outliers: 46182\n"
     ]
    }
   ],
   "source": [
    "# Define the columns to remove outliers\n",
    "selected_columns = ['gender', 'age', 'hypertension', 'heart_disease', 'smoking_history', 'bmi', 'HbA1c_level', 'blood_glucose_level']\n",
    "\n",
    "# Calculate the IQR for the selected columns in the training data\n",
    "Q1 = X_train[selected_columns].quantile(0.25)\n",
    "Q3 = X_train[selected_columns].quantile(0.75)\n",
    "IQR = Q3 - Q1\n",
    "\n",
    "# SetTING a threshold value for outlier detection (e.g., 1.5 times the IQR)\n",
    "threshold = 1.5\n",
    "\n",
    "# CreatING a mask for outliers in the selected columns\n",
    "outlier_mask = (\n",
    "    (X_train[selected_columns] < (Q1 - threshold * IQR)) |\n",
    "    (X_train[selected_columns] > (Q3 + threshold * IQR))\n",
    ").any(axis=1)\n",
    "\n",
    "# Remove rows with outliers from X_train and y_train\n",
    "X_train_clean = X_train[~outlier_mask]\n",
    "y_train_clean = y_train[~outlier_mask]\n",
    "\n",
    "# Print the number of rows removed\n",
    "num_rows_removed = len(X_train) - len(X_train_clean)\n",
    "print(f\"Number of rows removed due to outliers: {num_rows_removed}\")"
   ]
  },
  {
   "cell_type": "code",
   "execution_count": 30,
   "metadata": {},
   "outputs": [
    {
     "name": "stdout",
     "output_type": "stream",
     "text": [
      "Logistic Regression Accuracy: 0.89\n",
      "Logistic Regression Classification Report:\n",
      "              precision    recall  f1-score   support\n",
      "\n",
      "           0       0.89      0.88      0.89     18293\n",
      "           1       0.88      0.89      0.89     18307\n",
      "\n",
      "    accuracy                           0.89     36600\n",
      "   macro avg       0.89      0.89      0.89     36600\n",
      "weighted avg       0.89      0.89      0.89     36600\n",
      "\n"
     ]
    }
   ],
   "source": [
    "logistic_model = LogisticRegression(max_iter=1000)\n",
    "logistic_model.fit(X_train_clean, y_train_clean)\n",
    "\n",
    "# Make predictions on the test set\n",
    "logistic_predictions = logistic_model.predict(X_test)\n",
    "\n",
    "# Calculate AUC\n",
    "logistic_auc = roc_auc_score(y_test, logistic_predictions)\n",
    "\n",
    "# Generate ROC curve\n",
    "fpr, tpr, _ = roc_curve(y_test, logistic_predictions)\n",
    "\n",
    "# Evaluate the model's performance\n",
    "accuracy = accuracy_score(y_test, logistic_predictions)\n",
    "print(f\"Logistic Regression Accuracy: {accuracy:.2f}\")\n",
    "print(\"Logistic Regression Classification Report:\")\n",
    "print(classification_report(y_test, logistic_predictions))"
   ]
  }
 ],
 "metadata": {
  "kernelspec": {
   "display_name": "Python 3",
   "language": "python",
   "name": "python3"
  },
  "language_info": {
   "codemirror_mode": {
    "name": "ipython",
    "version": 3
   },
   "file_extension": ".py",
   "mimetype": "text/x-python",
   "name": "python",
   "nbconvert_exporter": "python",
   "pygments_lexer": "ipython3",
   "version": "3.12.6"
  }
 },
 "nbformat": 4,
 "nbformat_minor": 2
}
